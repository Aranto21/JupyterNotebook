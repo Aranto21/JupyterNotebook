{
 "cells": [
  {
   "cell_type": "markdown",
   "id": "cc3ffe5b-e9c6-4a8f-82f2-ece632ac170f",
   "metadata": {},
   "source": [
    "# Data Science Tools and Ecosystem"
   ]
  },
  {
   "cell_type": "markdown",
   "id": "6e489f7b-e08d-4b41-bbe8-9a280eb7a994",
   "metadata": {},
   "source": [
    "In this notebook, Data Science Tools and Ecosystem are summarized."
   ]
  },
  {
   "cell_type": "markdown",
   "id": "00863e8c-8c0c-429b-b4dd-93be79ff7c0f",
   "metadata": {
    "tags": []
   },
   "source": [
    "**Objectives:**\n",
    "* List popular languages for Data Science\n",
    "* List popular libraries Data Scientists use\n",
    "* List useful free and open-source tools for Data Science\n",
    "* Do a few arithmetic expressions using Python"
   ]
  },
  {
   "cell_type": "markdown",
   "id": "b1c62270-4fc2-4598-88ab-847f43ff2aad",
   "metadata": {
    "tags": []
   },
   "source": [
    "Some of the popular languages that Data Scientists use are:\n",
    "1. Python\n",
    "2. R\n",
    "3. SQL"
   ]
  },
  {
   "cell_type": "markdown",
   "id": "21e96499-5523-4c52-8cdb-a35aed4d1f36",
   "metadata": {},
   "source": [
    "Some of the commonly used libraries used by Data Scientists include:\n",
    "1. ggplot2\n",
    "2. matplotlib\n",
    "3. Pandas\n",
    "4. Numpy\n",
    "5. Scikit-learn\n",
    "6. PyTorch"
   ]
  },
  {
   "cell_type": "markdown",
   "id": "1d2a026e-6662-407e-86ac-de31348944c5",
   "metadata": {
    "tags": []
   },
   "source": [
    "| Data Science Tools |\n",
    "| ------------------ |\n",
    "| R Studio |\n",
    "| VS Code |\n",
    "| JupyterLab |\n",
    "| Hadoop |\n",
    "| Apache Spark |"
   ]
  },
  {
   "cell_type": "markdown",
   "id": "4866bb68-cbe3-4490-86d8-6998527643f6",
   "metadata": {},
   "source": [
    "### Below are a few examples of evaluating arithmetic expressions in Python"
   ]
  },
  {
   "cell_type": "code",
   "execution_count": 4,
   "id": "3335dd0d-3382-435f-bebf-2d3e172cdc87",
   "metadata": {
    "tags": []
   },
   "outputs": [
    {
     "data": {
      "text/plain": [
       "17"
      ]
     },
     "execution_count": 4,
     "metadata": {},
     "output_type": "execute_result"
    }
   ],
   "source": [
    "# This a simple arithmetic expression to mutiply then add integers\n",
    "(3 * 4) + 5"
   ]
  },
  {
   "cell_type": "code",
   "execution_count": 6,
   "id": "e13bdee1-179b-4f21-8c5d-c287dddddadf",
   "metadata": {
    "tags": []
   },
   "outputs": [
    {
     "data": {
      "text/plain": [
       "3.3333333333333335"
      ]
     },
     "execution_count": 6,
     "metadata": {},
     "output_type": "execute_result"
    }
   ],
   "source": [
    "# This will convert 200 minutes to hours by diving by 60\n",
    "200 / 60"
   ]
  },
  {
   "cell_type": "markdown",
   "id": "05b85056-75b8-48b8-919b-27a64bd25435",
   "metadata": {},
   "source": [
    "## Author\n",
    "Arne Antov"
   ]
  },
  {
   "cell_type": "code",
   "execution_count": null,
   "id": "a6268471-8350-44f6-9c5a-92b08142e66d",
   "metadata": {},
   "outputs": [],
   "source": []
  }
 ],
 "metadata": {
  "kernelspec": {
   "display_name": "Python 3 (ipykernel)",
   "language": "python",
   "name": "python3"
  },
  "language_info": {
   "codemirror_mode": {
    "name": "ipython",
    "version": 3
   },
   "file_extension": ".py",
   "mimetype": "text/x-python",
   "name": "python",
   "nbconvert_exporter": "python",
   "pygments_lexer": "ipython3",
   "version": "3.11.3"
  }
 },
 "nbformat": 4,
 "nbformat_minor": 5
}
